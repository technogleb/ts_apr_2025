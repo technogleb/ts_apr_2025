{
 "cells": [
  {
   "cell_type": "code",
   "execution_count": 1,
   "id": "stuck-blood",
   "metadata": {},
   "outputs": [],
   "source": [
    "%load_ext autoreload\n",
    "%autoreload 2"
   ]
  },
  {
   "cell_type": "code",
   "execution_count": 2,
   "id": "starting-teacher",
   "metadata": {},
   "outputs": [],
   "source": [
    "import sys\n",
    "from pathlib import Path\n",
    "\n",
    "sys.path.append(str(Path().cwd().parent))"
   ]
  },
  {
   "cell_type": "code",
   "execution_count": 3,
   "id": "cec1ce3c",
   "metadata": {},
   "outputs": [],
   "source": [
    "import warnings\n",
    "\n",
    "warnings.filterwarnings('ignore')"
   ]
  },
  {
   "cell_type": "code",
   "execution_count": 4,
   "id": "initial-owner",
   "metadata": {},
   "outputs": [],
   "source": [
    "from plotting import plot_ts"
   ]
  },
  {
   "cell_type": "markdown",
   "id": "sharing-happening",
   "metadata": {},
   "source": [
    "### Возьмем временной ряд"
   ]
  },
  {
   "cell_type": "code",
   "execution_count": 5,
   "id": "toxic-wayne",
   "metadata": {},
   "outputs": [],
   "source": [
    "from load_dataset import Dataset"
   ]
  },
  {
   "cell_type": "code",
   "execution_count": 6,
   "id": "infinite-financing",
   "metadata": {},
   "outputs": [],
   "source": [
    "ds = Dataset('../data/dataset/')"
   ]
  },
  {
   "cell_type": "code",
   "execution_count": 7,
   "id": "asian-guitar",
   "metadata": {},
   "outputs": [],
   "source": [
    "ts = ds['daily-min-temperatures.csv']"
   ]
  },
  {
   "cell_type": "markdown",
   "id": "breathing-hebrew",
   "metadata": {},
   "source": [
    "### Cоздание инстанса"
   ]
  },
  {
   "cell_type": "code",
   "execution_count": 8,
   "id": "described-morrison",
   "metadata": {},
   "outputs": [],
   "source": [
    "from model import TimeSeriesPredictor"
   ]
  },
  {
   "cell_type": "markdown",
   "id": "cognitive-arthritis",
   "metadata": {},
   "source": [
    "в качестве обязательных параметров принимает частоту ряда в формате iso8601\n",
    "и количество лагов для построения модели - granularity и num_lags"
   ]
  },
  {
   "cell_type": "code",
   "execution_count": 9,
   "id": "blank-innocent",
   "metadata": {},
   "outputs": [],
   "source": [
    "predictor = TimeSeriesPredictor('P1D', 365)"
   ]
  },
  {
   "cell_type": "markdown",
   "id": "narrow-publisher",
   "metadata": {},
   "source": [
    "также predictor'y можно передать параметр model, чтобы использовать конкретную модель для прогнозирования, модель может быть любым sklearn-совместимым эстиматором"
   ]
  },
  {
   "cell_type": "code",
   "execution_count": 10,
   "id": "rural-effect",
   "metadata": {},
   "outputs": [],
   "source": [
    "from sklearn.ensemble import GradientBoostingRegressor\n",
    "\n",
    "predictor = TimeSeriesPredictor('P1D', 365, model=GradientBoostingRegressor)"
   ]
  },
  {
   "cell_type": "markdown",
   "id": "crude-stockholm",
   "metadata": {},
   "source": [
    "model по умолчанию - LinearRegression"
   ]
  },
  {
   "cell_type": "code",
   "execution_count": 11,
   "id": "hourly-fishing",
   "metadata": {},
   "outputs": [
    {
     "data": {
      "text/html": [
       "<style>#sk-container-id-1 {color: black;background-color: white;}#sk-container-id-1 pre{padding: 0;}#sk-container-id-1 div.sk-toggleable {background-color: white;}#sk-container-id-1 label.sk-toggleable__label {cursor: pointer;display: block;width: 100%;margin-bottom: 0;padding: 0.3em;box-sizing: border-box;text-align: center;}#sk-container-id-1 label.sk-toggleable__label-arrow:before {content: \"▸\";float: left;margin-right: 0.25em;color: #696969;}#sk-container-id-1 label.sk-toggleable__label-arrow:hover:before {color: black;}#sk-container-id-1 div.sk-estimator:hover label.sk-toggleable__label-arrow:before {color: black;}#sk-container-id-1 div.sk-toggleable__content {max-height: 0;max-width: 0;overflow: hidden;text-align: left;background-color: #f0f8ff;}#sk-container-id-1 div.sk-toggleable__content pre {margin: 0.2em;color: black;border-radius: 0.25em;background-color: #f0f8ff;}#sk-container-id-1 input.sk-toggleable__control:checked~div.sk-toggleable__content {max-height: 200px;max-width: 100%;overflow: auto;}#sk-container-id-1 input.sk-toggleable__control:checked~label.sk-toggleable__label-arrow:before {content: \"▾\";}#sk-container-id-1 div.sk-estimator input.sk-toggleable__control:checked~label.sk-toggleable__label {background-color: #d4ebff;}#sk-container-id-1 div.sk-label input.sk-toggleable__control:checked~label.sk-toggleable__label {background-color: #d4ebff;}#sk-container-id-1 input.sk-hidden--visually {border: 0;clip: rect(1px 1px 1px 1px);clip: rect(1px, 1px, 1px, 1px);height: 1px;margin: -1px;overflow: hidden;padding: 0;position: absolute;width: 1px;}#sk-container-id-1 div.sk-estimator {font-family: monospace;background-color: #f0f8ff;border: 1px dotted black;border-radius: 0.25em;box-sizing: border-box;margin-bottom: 0.5em;}#sk-container-id-1 div.sk-estimator:hover {background-color: #d4ebff;}#sk-container-id-1 div.sk-parallel-item::after {content: \"\";width: 100%;border-bottom: 1px solid gray;flex-grow: 1;}#sk-container-id-1 div.sk-label:hover label.sk-toggleable__label {background-color: #d4ebff;}#sk-container-id-1 div.sk-serial::before {content: \"\";position: absolute;border-left: 1px solid gray;box-sizing: border-box;top: 0;bottom: 0;left: 50%;z-index: 0;}#sk-container-id-1 div.sk-serial {display: flex;flex-direction: column;align-items: center;background-color: white;padding-right: 0.2em;padding-left: 0.2em;position: relative;}#sk-container-id-1 div.sk-item {position: relative;z-index: 1;}#sk-container-id-1 div.sk-parallel {display: flex;align-items: stretch;justify-content: center;background-color: white;position: relative;}#sk-container-id-1 div.sk-item::before, #sk-container-id-1 div.sk-parallel-item::before {content: \"\";position: absolute;border-left: 1px solid gray;box-sizing: border-box;top: 0;bottom: 0;left: 50%;z-index: -1;}#sk-container-id-1 div.sk-parallel-item {display: flex;flex-direction: column;z-index: 1;position: relative;background-color: white;}#sk-container-id-1 div.sk-parallel-item:first-child::after {align-self: flex-end;width: 50%;}#sk-container-id-1 div.sk-parallel-item:last-child::after {align-self: flex-start;width: 50%;}#sk-container-id-1 div.sk-parallel-item:only-child::after {width: 0;}#sk-container-id-1 div.sk-dashed-wrapped {border: 1px dashed gray;margin: 0 0.4em 0.5em 0.4em;box-sizing: border-box;padding-bottom: 0.4em;background-color: white;}#sk-container-id-1 div.sk-label label {font-family: monospace;font-weight: bold;display: inline-block;line-height: 1.2em;}#sk-container-id-1 div.sk-label-container {text-align: center;}#sk-container-id-1 div.sk-container {/* jupyter's `normalize.less` sets `[hidden] { display: none; }` but bootstrap.min.css set `[hidden] { display: none !important; }` so we also need the `!important` here to be able to override the default hidden behavior on the sphinx rendered scikit-learn.org. See: https://github.com/scikit-learn/scikit-learn/issues/21755 */display: inline-block !important;position: relative;}#sk-container-id-1 div.sk-text-repr-fallback {display: none;}</style><div id=\"sk-container-id-1\" class=\"sk-top-container\"><div class=\"sk-text-repr-fallback\"><pre>LinearRegression()</pre><b>In a Jupyter environment, please rerun this cell to show the HTML representation or trust the notebook. <br />On GitHub, the HTML representation is unable to render, please try loading this page with nbviewer.org.</b></div><div class=\"sk-container\" hidden><div class=\"sk-item\"><div class=\"sk-estimator sk-toggleable\"><input class=\"sk-toggleable__control sk-hidden--visually\" id=\"sk-estimator-id-1\" type=\"checkbox\" checked><label for=\"sk-estimator-id-1\" class=\"sk-toggleable__label sk-toggleable__label-arrow\">LinearRegression</label><div class=\"sk-toggleable__content\"><pre>LinearRegression()</pre></div></div></div></div></div>"
      ],
      "text/plain": [
       "LinearRegression()"
      ]
     },
     "execution_count": 11,
     "metadata": {},
     "output_type": "execute_result"
    }
   ],
   "source": [
    "predictor = TimeSeriesPredictor('P1D', 365)\n",
    "predictor.model"
   ]
  },
  {
   "cell_type": "markdown",
   "id": "smooth-engine",
   "metadata": {},
   "source": [
    "также для передачи дополнительной информации в модель вы можете использовать параметр mappers куда нужно передать ваши функции, принимающие timestamp и возвращающие для него значение вашего доп признака"
   ]
  },
  {
   "cell_type": "code",
   "execution_count": 12,
   "id": "armed-water",
   "metadata": {},
   "outputs": [],
   "source": [
    "def get_hour(timestamp):\n",
    "    return timestamp.hour\n",
    "\n",
    "external_features = {\n",
    "    'hour': get_hour\n",
    "}\n",
    "\n",
    "predictor = TimeSeriesPredictor('P1D', 365, mappers=external_features)"
   ]
  },
  {
   "cell_type": "markdown",
   "id": "informed-nevada",
   "metadata": {},
   "source": [
    "Помимо основных параметровв модель также можно передать любое произвольно количество именованных аргументов **kwargs, которые будут переданы в конструктор `model`"
   ]
  },
  {
   "cell_type": "code",
   "execution_count": 13,
   "id": "raised-demographic",
   "metadata": {},
   "outputs": [],
   "source": [
    "from sklearn.ensemble import GradientBoostingRegressor\n",
    "\n",
    "predictor = TimeSeriesPredictor('P1D', 365, model=GradientBoostingRegressor, max_depth=6, n_estimators=1000)"
   ]
  },
  {
   "cell_type": "markdown",
   "id": "involved-suspension",
   "metadata": {},
   "source": [
    "### Получение и установка параметров и функционал get/set params"
   ]
  },
  {
   "cell_type": "markdown",
   "id": "involved-compensation",
   "metadata": {},
   "source": [
    "классическое получение и задание аттрибутов"
   ]
  },
  {
   "cell_type": "code",
   "execution_count": 14,
   "id": "known-turkey",
   "metadata": {},
   "outputs": [
    {
     "data": {
      "text/plain": [
       "0.1"
      ]
     },
     "execution_count": 14,
     "metadata": {},
     "output_type": "execute_result"
    }
   ],
   "source": [
    "predictor.num_lags\n",
    "predictor.model\n",
    "predictor.model.learning_rate"
   ]
  },
  {
   "cell_type": "code",
   "execution_count": 15,
   "id": "designed-alfred",
   "metadata": {},
   "outputs": [],
   "source": [
    "predictor.model.learning_rate = 0.2"
   ]
  },
  {
   "cell_type": "code",
   "execution_count": 16,
   "id": "interstate-refrigerator",
   "metadata": {},
   "outputs": [
    {
     "data": {
      "text/plain": [
       "0.2"
      ]
     },
     "execution_count": 16,
     "metadata": {},
     "output_type": "execute_result"
    }
   ],
   "source": [
    "predictor.model.learning_rate"
   ]
  },
  {
   "cell_type": "markdown",
   "id": "acoustic-blowing",
   "metadata": {},
   "source": [
    "метод get_params получает словарь всех параметров модели включая sub-параметры модели, в таком случае они идут с префиксом\n",
    "`model__`"
   ]
  },
  {
   "cell_type": "code",
   "execution_count": 17,
   "id": "statewide-writer",
   "metadata": {},
   "outputs": [
    {
     "data": {
      "text/plain": [
       "{'granularity': 'P1D',\n",
       " 'mappers': {},\n",
       " 'model__alpha': 0.9,\n",
       " 'model__ccp_alpha': 0.0,\n",
       " 'model__criterion': 'friedman_mse',\n",
       " 'model__init': None,\n",
       " 'model__learning_rate': 0.2,\n",
       " 'model__loss': 'squared_error',\n",
       " 'model__max_depth': 6,\n",
       " 'model__max_features': None,\n",
       " 'model__max_leaf_nodes': None,\n",
       " 'model__min_impurity_decrease': 0.0,\n",
       " 'model__min_samples_leaf': 1,\n",
       " 'model__min_samples_split': 2,\n",
       " 'model__min_weight_fraction_leaf': 0.0,\n",
       " 'model__n_estimators': 1000,\n",
       " 'model__n_iter_no_change': None,\n",
       " 'model__random_state': None,\n",
       " 'model__subsample': 1.0,\n",
       " 'model__tol': 0.0001,\n",
       " 'model__validation_fraction': 0.1,\n",
       " 'model__verbose': 0,\n",
       " 'model__warm_start': False,\n",
       " 'model': GradientBoostingRegressor(learning_rate=0.2, max_depth=6, n_estimators=1000),\n",
       " 'num_lags': 365}"
      ]
     },
     "execution_count": 17,
     "metadata": {},
     "output_type": "execute_result"
    }
   ],
   "source": [
    "predictor.get_params()"
   ]
  },
  {
   "cell_type": "markdown",
   "id": "rural-contrary",
   "metadata": {},
   "source": [
    "метод set_params реализует обратную логику, принимая набор параметров для установки, включая sub-параметры модели, в таком случае их нужно указывать с префиксом `model__`"
   ]
  },
  {
   "cell_type": "code",
   "execution_count": 18,
   "id": "controlled-shoulder",
   "metadata": {},
   "outputs": [
    {
     "data": {
      "text/plain": [
       "<model.TimeSeriesPredictor at 0x112b7f4f0>"
      ]
     },
     "execution_count": 18,
     "metadata": {},
     "output_type": "execute_result"
    }
   ],
   "source": [
    "from sklearn.ensemble import RandomForestRegressor\n",
    "\n",
    "\n",
    "params = {\n",
    "    'num_lags': 730,\n",
    "    'model': RandomForestRegressor(),  # обратите внимание, что в данном случае требуется создать инстанс модели!!\n",
    "    'model__max_depth': 3,\n",
    "    'model__n_estimators': 400,\n",
    "}\n",
    "\n",
    "predictor.set_params(**params)  # параметры необходимо распаковать"
   ]
  },
  {
   "cell_type": "code",
   "execution_count": 19,
   "id": "forced-summary",
   "metadata": {},
   "outputs": [
    {
     "data": {
      "text/plain": [
       "{'granularity': 'P1D',\n",
       " 'mappers': {},\n",
       " 'model__bootstrap': True,\n",
       " 'model__ccp_alpha': 0.0,\n",
       " 'model__criterion': 'squared_error',\n",
       " 'model__max_depth': 3,\n",
       " 'model__max_features': 1.0,\n",
       " 'model__max_leaf_nodes': None,\n",
       " 'model__max_samples': None,\n",
       " 'model__min_impurity_decrease': 0.0,\n",
       " 'model__min_samples_leaf': 1,\n",
       " 'model__min_samples_split': 2,\n",
       " 'model__min_weight_fraction_leaf': 0.0,\n",
       " 'model__n_estimators': 400,\n",
       " 'model__n_jobs': None,\n",
       " 'model__oob_score': False,\n",
       " 'model__random_state': None,\n",
       " 'model__verbose': 0,\n",
       " 'model__warm_start': False,\n",
       " 'model': RandomForestRegressor(max_depth=3, n_estimators=400),\n",
       " 'num_lags': 730}"
      ]
     },
     "execution_count": 19,
     "metadata": {},
     "output_type": "execute_result"
    }
   ],
   "source": [
    "predictor.get_params()"
   ]
  },
  {
   "cell_type": "markdown",
   "id": "public-engine",
   "metadata": {},
   "source": [
    "###  Обучение модели"
   ]
  },
  {
   "cell_type": "markdown",
   "id": "guilty-international",
   "metadata": {},
   "source": [
    "в данном случае на вход подается временной ряд в формате pd.Series"
   ]
  },
  {
   "cell_type": "code",
   "execution_count": 20,
   "id": "stretch-jersey",
   "metadata": {},
   "outputs": [],
   "source": [
    "split_idx = int(len(ts) * 0.7)\n",
    "\n",
    "ts_train, ts_test = ts[:split_idx], ts[split_idx:]"
   ]
  },
  {
   "cell_type": "code",
   "execution_count": null,
   "id": "narrative-glass",
   "metadata": {},
   "outputs": [],
   "source": [
    "predictor.fit(ts_train)"
   ]
  },
  {
   "cell_type": "markdown",
   "id": "paperback-attribute",
   "metadata": {},
   "source": [
    "### Получение out-of-sample прогноза"
   ]
  },
  {
   "cell_type": "markdown",
   "id": "scenic-richmond",
   "metadata": {},
   "source": [
    "на вход подаем временной ряд от которого нужно сделать прогноз (длинной минимум num_lags) + горизонт прогнозирования"
   ]
  },
  {
   "cell_type": "code",
   "execution_count": null,
   "id": "distant-sound",
   "metadata": {},
   "outputs": [],
   "source": [
    "from sklearn.metrics import mean_squared_error as mse"
   ]
  },
  {
   "cell_type": "code",
   "execution_count": null,
   "id": "prospective-rhythm",
   "metadata": {},
   "outputs": [],
   "source": [
    "preds = predictor.predict_next(ts_train, n_steps=len(ts_test))"
   ]
  },
  {
   "cell_type": "code",
   "execution_count": null,
   "id": "dutch-grace",
   "metadata": {},
   "outputs": [],
   "source": [
    "plot_ts(ts_test, preds)"
   ]
  },
  {
   "cell_type": "code",
   "execution_count": null,
   "id": "municipal-backing",
   "metadata": {},
   "outputs": [],
   "source": [
    "mse(ts_test, preds)"
   ]
  },
  {
   "cell_type": "markdown",
   "id": "regular-serbia",
   "metadata": {},
   "source": [
    "### Получение in-sample (когда каждая точка нам известна) прогноза"
   ]
  },
  {
   "cell_type": "markdown",
   "id": "consecutive-discount",
   "metadata": {},
   "source": [
    "в таком случае мы должны вторым аргументов передать реальный тест, такм образом этим методом мы смотрим как бы мы предсказали ts_test если бы мы предсказывали на одну точку вперед, т.е. нам всегда известна реальная предыдущая точка"
   ]
  },
  {
   "cell_type": "code",
   "execution_count": null,
   "id": "obvious-dollar",
   "metadata": {},
   "outputs": [],
   "source": [
    "preds = predictor.predict_batch(ts_train, ts_test)"
   ]
  },
  {
   "cell_type": "code",
   "execution_count": null,
   "id": "integrated-treatment",
   "metadata": {},
   "outputs": [],
   "source": [
    "plot_ts(ts_test, preds)"
   ]
  },
  {
   "cell_type": "code",
   "execution_count": null,
   "id": "electric-accident",
   "metadata": {},
   "outputs": [],
   "source": [
    "mse(ts_test, preds)"
   ]
  },
  {
   "cell_type": "markdown",
   "id": "selective-natural",
   "metadata": {},
   "source": []
  }
 ],
 "metadata": {
  "kernelspec": {
   "display_name": "Python 3 (ipykernel)",
   "language": "python",
   "name": "python3"
  },
  "language_info": {
   "codemirror_mode": {
    "name": "ipython",
    "version": 3
   },
   "file_extension": ".py",
   "mimetype": "text/x-python",
   "name": "python",
   "nbconvert_exporter": "python",
   "pygments_lexer": "ipython3",
   "version": "3.10.5"
  }
 },
 "nbformat": 4,
 "nbformat_minor": 5
}
